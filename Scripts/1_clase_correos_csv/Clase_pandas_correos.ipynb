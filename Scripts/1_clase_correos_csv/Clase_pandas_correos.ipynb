{
 "cells": [
  {
   "cell_type": "code",
   "execution_count": 38,
   "id": "a2013a34",
   "metadata": {},
   "outputs": [],
   "source": [
    "#!pip install pandas\n",
    "#instalarlo "
   ]
  },
  {
   "cell_type": "code",
   "execution_count": 39,
   "id": "58e7191b",
   "metadata": {},
   "outputs": [],
   "source": [
    "import pandas"
   ]
  },
  {
   "cell_type": "code",
   "execution_count": 40,
   "id": "ce534fc0",
   "metadata": {},
   "outputs": [],
   "source": [
    "df=pandas.read_excel( r\"C:\\Users\\jacj2\\Downloads\\bd_con_excel.xlsx\")"
   ]
  },
  {
   "cell_type": "code",
   "execution_count": 41,
   "id": "de63a3e4",
   "metadata": {},
   "outputs": [
    {
     "data": {
      "text/plain": [
       "(4, 3)"
      ]
     },
     "execution_count": 41,
     "metadata": {},
     "output_type": "execute_result"
    }
   ],
   "source": [
    "df.shape"
   ]
  },
  {
   "cell_type": "code",
   "execution_count": 42,
   "id": "186e9155",
   "metadata": {},
   "outputs": [
    {
     "data": {
      "text/html": [
       "<div>\n",
       "<style scoped>\n",
       "    .dataframe tbody tr th:only-of-type {\n",
       "        vertical-align: middle;\n",
       "    }\n",
       "\n",
       "    .dataframe tbody tr th {\n",
       "        vertical-align: top;\n",
       "    }\n",
       "\n",
       "    .dataframe thead th {\n",
       "        text-align: right;\n",
       "    }\n",
       "</style>\n",
       "<table border=\"1\" class=\"dataframe\">\n",
       "  <thead>\n",
       "    <tr style=\"text-align: right;\">\n",
       "      <th></th>\n",
       "      <th>Nombre</th>\n",
       "      <th>Sueldo</th>\n",
       "      <th>Apellido</th>\n",
       "    </tr>\n",
       "  </thead>\n",
       "  <tbody>\n",
       "    <tr>\n",
       "      <th>0</th>\n",
       "      <td>Matha</td>\n",
       "      <td>1000</td>\n",
       "      <td>Jimenez</td>\n",
       "    </tr>\n",
       "    <tr>\n",
       "      <th>1</th>\n",
       "      <td>Pedro</td>\n",
       "      <td>1500</td>\n",
       "      <td>Ortiz</td>\n",
       "    </tr>\n",
       "    <tr>\n",
       "      <th>2</th>\n",
       "      <td>Juaquin</td>\n",
       "      <td>500</td>\n",
       "      <td>Martinez</td>\n",
       "    </tr>\n",
       "    <tr>\n",
       "      <th>3</th>\n",
       "      <td>Andrea</td>\n",
       "      <td>700</td>\n",
       "      <td>Perez</td>\n",
       "    </tr>\n",
       "  </tbody>\n",
       "</table>\n",
       "</div>"
      ],
      "text/plain": [
       "     Nombre  Sueldo  Apellido\n",
       "0     Matha    1000   Jimenez\n",
       "1     Pedro    1500     Ortiz\n",
       "2  Juaquin      500  Martinez\n",
       "3    Andrea     700     Perez"
      ]
     },
     "execution_count": 42,
     "metadata": {},
     "output_type": "execute_result"
    }
   ],
   "source": [
    "df.head()"
   ]
  },
  {
   "cell_type": "code",
   "execution_count": 43,
   "id": "f5f03561",
   "metadata": {},
   "outputs": [
    {
     "data": {
      "text/plain": [
       "'Juaquin '"
      ]
     },
     "execution_count": 43,
     "metadata": {},
     "output_type": "execute_result"
    }
   ],
   "source": [
    "df[\"Nombre\"][2]#[:-1]"
   ]
  },
  {
   "cell_type": "code",
   "execution_count": 44,
   "id": "445408b5",
   "metadata": {},
   "outputs": [
    {
     "name": "stderr",
     "output_type": "stream",
     "text": [
      "C:\\Users\\jacj2\\AppData\\Local\\Temp\\ipykernel_21528\\1787574071.py:1: FutureWarning: ChainedAssignmentError: behaviour will change in pandas 3.0!\n",
      "You are setting values through chained assignment. Currently this works in certain cases, but when using Copy-on-Write (which will become the default behaviour in pandas 3.0) this will never work to update the original DataFrame or Series, because the intermediate object on which we are setting values will behave as a copy.\n",
      "A typical example is when you are setting values in a column of a DataFrame, like:\n",
      "\n",
      "df[\"col\"][row_indexer] = value\n",
      "\n",
      "Use `df.loc[row_indexer, \"col\"] = values` instead, to perform the assignment in a single step and ensure this keeps updating the original `df`.\n",
      "\n",
      "See the caveats in the documentation: https://pandas.pydata.org/pandas-docs/stable/user_guide/indexing.html#returning-a-view-versus-a-copy\n",
      "\n",
      "  df[\"Nombre\"][2]=df[\"Nombre\"][2][:-1]\n",
      "C:\\Users\\jacj2\\AppData\\Local\\Temp\\ipykernel_21528\\1787574071.py:1: SettingWithCopyWarning: \n",
      "A value is trying to be set on a copy of a slice from a DataFrame\n",
      "\n",
      "See the caveats in the documentation: https://pandas.pydata.org/pandas-docs/stable/user_guide/indexing.html#returning-a-view-versus-a-copy\n",
      "  df[\"Nombre\"][2]=df[\"Nombre\"][2][:-1]\n"
     ]
    }
   ],
   "source": [
    "df[\"Nombre\"][2]=df[\"Nombre\"][2][:-1]"
   ]
  },
  {
   "cell_type": "code",
   "execution_count": 45,
   "id": "3d154bfe",
   "metadata": {},
   "outputs": [
    {
     "data": {
      "text/plain": [
       "'Juaquin'"
      ]
     },
     "execution_count": 45,
     "metadata": {},
     "output_type": "execute_result"
    }
   ],
   "source": [
    "df[\"Nombre\"][2]"
   ]
  },
  {
   "cell_type": "code",
   "execution_count": 46,
   "id": "c78c82ef",
   "metadata": {},
   "outputs": [
    {
     "data": {
      "text/plain": [
       "Index(['Nombre', 'Sueldo', 'Apellido'], dtype='object')"
      ]
     },
     "execution_count": 46,
     "metadata": {},
     "output_type": "execute_result"
    }
   ],
   "source": [
    "df.columns"
   ]
  },
  {
   "cell_type": "code",
   "execution_count": 47,
   "id": "4cb025bd",
   "metadata": {},
   "outputs": [
    {
     "data": {
      "text/html": [
       "<div>\n",
       "<style scoped>\n",
       "    .dataframe tbody tr th:only-of-type {\n",
       "        vertical-align: middle;\n",
       "    }\n",
       "\n",
       "    .dataframe tbody tr th {\n",
       "        vertical-align: top;\n",
       "    }\n",
       "\n",
       "    .dataframe thead th {\n",
       "        text-align: right;\n",
       "    }\n",
       "</style>\n",
       "<table border=\"1\" class=\"dataframe\">\n",
       "  <thead>\n",
       "    <tr style=\"text-align: right;\">\n",
       "      <th></th>\n",
       "      <th>Nombre</th>\n",
       "      <th>Sueldo</th>\n",
       "      <th>Apellido</th>\n",
       "    </tr>\n",
       "  </thead>\n",
       "  <tbody>\n",
       "    <tr>\n",
       "      <th>0</th>\n",
       "      <td>Matha</td>\n",
       "      <td>1000</td>\n",
       "      <td>Jimenez</td>\n",
       "    </tr>\n",
       "    <tr>\n",
       "      <th>1</th>\n",
       "      <td>Pedro</td>\n",
       "      <td>1500</td>\n",
       "      <td>Ortiz</td>\n",
       "    </tr>\n",
       "    <tr>\n",
       "      <th>2</th>\n",
       "      <td>Juaquin</td>\n",
       "      <td>500</td>\n",
       "      <td>Martinez</td>\n",
       "    </tr>\n",
       "    <tr>\n",
       "      <th>3</th>\n",
       "      <td>Andrea</td>\n",
       "      <td>700</td>\n",
       "      <td>Perez</td>\n",
       "    </tr>\n",
       "  </tbody>\n",
       "</table>\n",
       "</div>"
      ],
      "text/plain": [
       "    Nombre  Sueldo  Apellido\n",
       "0    Matha    1000   Jimenez\n",
       "1    Pedro    1500     Ortiz\n",
       "2  Juaquin     500  Martinez\n",
       "3   Andrea     700     Perez"
      ]
     },
     "execution_count": 47,
     "metadata": {},
     "output_type": "execute_result"
    }
   ],
   "source": [
    "df.head()"
   ]
  },
  {
   "cell_type": "code",
   "execution_count": 48,
   "id": "1510b55e",
   "metadata": {},
   "outputs": [
    {
     "data": {
      "text/plain": [
       "0      Matha\n",
       "1      Pedro\n",
       "2    Juaquin\n",
       "3     Andrea\n",
       "Name: Nombre, dtype: object"
      ]
     },
     "execution_count": 48,
     "metadata": {},
     "output_type": "execute_result"
    }
   ],
   "source": [
    "# vamos a hacer los correos\n",
    "df['Apellido']\n",
    "df['Nombre']"
   ]
  },
  {
   "cell_type": "code",
   "execution_count": 49,
   "id": "aa02b598",
   "metadata": {},
   "outputs": [
    {
     "data": {
      "text/plain": [
       "4"
      ]
     },
     "execution_count": 49,
     "metadata": {},
     "output_type": "execute_result"
    }
   ],
   "source": [
    "df.shape[0]"
   ]
  },
  {
   "cell_type": "code",
   "execution_count": null,
   "id": "e5ec77c5",
   "metadata": {},
   "outputs": [],
   "source": [
    "# version donde no se repiten nombres\n",
    "lista_correos=[]\n",
    "for correo in range(df.shape[0]):\n",
    "    apellido_junto_nombre=df['Apellido'][correo]+\".\"+df['Nombre'][correo]+\"@python.com.co\"\n",
    "    lista_correos.append(apellido_junto_nombre)"
   ]
  },
  {
   "cell_type": "code",
   "execution_count": null,
   "id": "e2c9409a",
   "metadata": {},
   "outputs": [],
   "source": [
    "#Opcion 1 , validar en lista los duplicados \n",
    "lista_correos=[]\n",
    "for correo in range(df.shape[0]):\n",
    "    apellido_junto_nombre=df['Apellido'][correo]+\".\"+df['Nombre'][correo]+\"@python.com.co\"\n",
    "    if apellido_junto_nombre in lista_correos:\n",
    "        apellido_junto_nombre=df['Apellido'][correo]+\".\"+df['Nombre'][correo]+\".contractor@python.com.co\"\n",
    "        lista_correos.append(apellido_junto_nombre)\n"
   ]
  },
  {
   "cell_type": "code",
   "execution_count": 51,
   "id": "77e2fb5e",
   "metadata": {},
   "outputs": [],
   "source": [
    "df[\"Correos_corporativos\"]=lista_correos\n"
   ]
  },
  {
   "cell_type": "code",
   "execution_count": 56,
   "id": "2e11ac97",
   "metadata": {},
   "outputs": [
    {
     "data": {
      "text/plain": [
       "(4, 4)"
      ]
     },
     "execution_count": 56,
     "metadata": {},
     "output_type": "execute_result"
    }
   ],
   "source": [
    "df.shape"
   ]
  },
  {
   "cell_type": "code",
   "execution_count": 57,
   "id": "b4ecab52",
   "metadata": {},
   "outputs": [
    {
     "data": {
      "text/plain": [
       "4"
      ]
     },
     "execution_count": 57,
     "metadata": {},
     "output_type": "execute_result"
    }
   ],
   "source": [
    "len(df[\"Correos_corporativos\"].unique())"
   ]
  },
  {
   "cell_type": "code",
   "execution_count": 66,
   "id": "579eee12",
   "metadata": {},
   "outputs": [
    {
     "data": {
      "text/plain": [
       "0       Jimenez.Matha@python.com.co\n",
       "1         Ortiz.Pedro@python.com.co\n",
       "2    Martinez.Juaquin@python.com.co\n",
       "3        Perez.Andrea@python.com.co\n",
       "Name: Correos_corporativos, dtype: object"
      ]
     },
     "execution_count": 66,
     "metadata": {},
     "output_type": "execute_result"
    }
   ],
   "source": [
    "df[\"Correos_corporativos\"].drop_duplicates()"
   ]
  },
  {
   "cell_type": "code",
   "execution_count": null,
   "id": "45c8727c",
   "metadata": {},
   "outputs": [],
   "source": [
    "df"
   ]
  },
  {
   "cell_type": "code",
   "execution_count": 52,
   "id": "498169a0",
   "metadata": {},
   "outputs": [
    {
     "data": {
      "text/plain": [
       "(4, 4)"
      ]
     },
     "execution_count": 52,
     "metadata": {},
     "output_type": "execute_result"
    }
   ],
   "source": [
    "df.shape"
   ]
  },
  {
   "cell_type": "code",
   "execution_count": 53,
   "id": "3812e8fe",
   "metadata": {},
   "outputs": [
    {
     "data": {
      "text/html": [
       "<div>\n",
       "<style scoped>\n",
       "    .dataframe tbody tr th:only-of-type {\n",
       "        vertical-align: middle;\n",
       "    }\n",
       "\n",
       "    .dataframe tbody tr th {\n",
       "        vertical-align: top;\n",
       "    }\n",
       "\n",
       "    .dataframe thead th {\n",
       "        text-align: right;\n",
       "    }\n",
       "</style>\n",
       "<table border=\"1\" class=\"dataframe\">\n",
       "  <thead>\n",
       "    <tr style=\"text-align: right;\">\n",
       "      <th></th>\n",
       "      <th>Nombre</th>\n",
       "      <th>Sueldo</th>\n",
       "      <th>Apellido</th>\n",
       "      <th>Correos_corporativos</th>\n",
       "    </tr>\n",
       "  </thead>\n",
       "  <tbody>\n",
       "    <tr>\n",
       "      <th>0</th>\n",
       "      <td>Matha</td>\n",
       "      <td>1000</td>\n",
       "      <td>Jimenez</td>\n",
       "      <td>Jimenez.Matha@python.com.co</td>\n",
       "    </tr>\n",
       "    <tr>\n",
       "      <th>1</th>\n",
       "      <td>Pedro</td>\n",
       "      <td>1500</td>\n",
       "      <td>Ortiz</td>\n",
       "      <td>Ortiz.Pedro@python.com.co</td>\n",
       "    </tr>\n",
       "    <tr>\n",
       "      <th>2</th>\n",
       "      <td>Juaquin</td>\n",
       "      <td>500</td>\n",
       "      <td>Martinez</td>\n",
       "      <td>Martinez.Juaquin@python.com.co</td>\n",
       "    </tr>\n",
       "    <tr>\n",
       "      <th>3</th>\n",
       "      <td>Andrea</td>\n",
       "      <td>700</td>\n",
       "      <td>Perez</td>\n",
       "      <td>Perez.Andrea@python.com.co</td>\n",
       "    </tr>\n",
       "  </tbody>\n",
       "</table>\n",
       "</div>"
      ],
      "text/plain": [
       "    Nombre  Sueldo  Apellido            Correos_corporativos\n",
       "0    Matha    1000   Jimenez     Jimenez.Matha@python.com.co\n",
       "1    Pedro    1500     Ortiz       Ortiz.Pedro@python.com.co\n",
       "2  Juaquin     500  Martinez  Martinez.Juaquin@python.com.co\n",
       "3   Andrea     700     Perez      Perez.Andrea@python.com.co"
      ]
     },
     "execution_count": 53,
     "metadata": {},
     "output_type": "execute_result"
    }
   ],
   "source": [
    "df"
   ]
  },
  {
   "cell_type": "code",
   "execution_count": 54,
   "id": "82c3e0e8",
   "metadata": {},
   "outputs": [],
   "source": [
    "df.to_csv(r\"C:\\Users\\jacj2\\OneDrive\\Desktop\\clases_erick\\Scripts\\base_datos_con_correos1.csv\")"
   ]
  },
  {
   "cell_type": "code",
   "execution_count": 59,
   "id": "3b034f94",
   "metadata": {},
   "outputs": [],
   "source": [
    "lista_de_aumentos=[1.2,1.01,2,1.5]"
   ]
  },
  {
   "cell_type": "code",
   "execution_count": 62,
   "id": "96f02e26",
   "metadata": {},
   "outputs": [
    {
     "data": {
      "text/html": [
       "<div>\n",
       "<style scoped>\n",
       "    .dataframe tbody tr th:only-of-type {\n",
       "        vertical-align: middle;\n",
       "    }\n",
       "\n",
       "    .dataframe tbody tr th {\n",
       "        vertical-align: top;\n",
       "    }\n",
       "\n",
       "    .dataframe thead th {\n",
       "        text-align: right;\n",
       "    }\n",
       "</style>\n",
       "<table border=\"1\" class=\"dataframe\">\n",
       "  <thead>\n",
       "    <tr style=\"text-align: right;\">\n",
       "      <th></th>\n",
       "      <th>Nombre</th>\n",
       "      <th>Sueldo</th>\n",
       "      <th>Apellido</th>\n",
       "      <th>Correos_corporativos</th>\n",
       "      <th>Aumentos</th>\n",
       "      <th>Aumentos anuales</th>\n",
       "    </tr>\n",
       "  </thead>\n",
       "  <tbody>\n",
       "    <tr>\n",
       "      <th>0</th>\n",
       "      <td>Matha</td>\n",
       "      <td>1000</td>\n",
       "      <td>Jimenez</td>\n",
       "      <td>Jimenez.Matha@python.com.co</td>\n",
       "      <td>1.20</td>\n",
       "      <td>1.20</td>\n",
       "    </tr>\n",
       "    <tr>\n",
       "      <th>1</th>\n",
       "      <td>Pedro</td>\n",
       "      <td>1500</td>\n",
       "      <td>Ortiz</td>\n",
       "      <td>Ortiz.Pedro@python.com.co</td>\n",
       "      <td>1.01</td>\n",
       "      <td>1.01</td>\n",
       "    </tr>\n",
       "    <tr>\n",
       "      <th>2</th>\n",
       "      <td>Juaquin</td>\n",
       "      <td>500</td>\n",
       "      <td>Martinez</td>\n",
       "      <td>Martinez.Juaquin@python.com.co</td>\n",
       "      <td>2.00</td>\n",
       "      <td>2.00</td>\n",
       "    </tr>\n",
       "    <tr>\n",
       "      <th>3</th>\n",
       "      <td>Andrea</td>\n",
       "      <td>700</td>\n",
       "      <td>Perez</td>\n",
       "      <td>Perez.Andrea@python.com.co</td>\n",
       "      <td>1.50</td>\n",
       "      <td>1.50</td>\n",
       "    </tr>\n",
       "  </tbody>\n",
       "</table>\n",
       "</div>"
      ],
      "text/plain": [
       "    Nombre  Sueldo  Apellido            Correos_corporativos  Aumentos  \\\n",
       "0    Matha    1000   Jimenez     Jimenez.Matha@python.com.co      1.20   \n",
       "1    Pedro    1500     Ortiz       Ortiz.Pedro@python.com.co      1.01   \n",
       "2  Juaquin     500  Martinez  Martinez.Juaquin@python.com.co      2.00   \n",
       "3   Andrea     700     Perez      Perez.Andrea@python.com.co      1.50   \n",
       "\n",
       "   Aumentos anuales  \n",
       "0              1.20  \n",
       "1              1.01  \n",
       "2              2.00  \n",
       "3              1.50  "
      ]
     },
     "execution_count": 62,
     "metadata": {},
     "output_type": "execute_result"
    }
   ],
   "source": [
    "df[\"Aumentos anuales\"]=lista_de_aumentos\n",
    "df.head()"
   ]
  },
  {
   "cell_type": "code",
   "execution_count": 63,
   "id": "7716798d",
   "metadata": {},
   "outputs": [],
   "source": [
    "df[\"Sueldo2025\"]=df.Sueldo*df.Aumentos"
   ]
  },
  {
   "cell_type": "code",
   "execution_count": 64,
   "id": "afc93498",
   "metadata": {},
   "outputs": [
    {
     "data": {
      "text/html": [
       "<div>\n",
       "<style scoped>\n",
       "    .dataframe tbody tr th:only-of-type {\n",
       "        vertical-align: middle;\n",
       "    }\n",
       "\n",
       "    .dataframe tbody tr th {\n",
       "        vertical-align: top;\n",
       "    }\n",
       "\n",
       "    .dataframe thead th {\n",
       "        text-align: right;\n",
       "    }\n",
       "</style>\n",
       "<table border=\"1\" class=\"dataframe\">\n",
       "  <thead>\n",
       "    <tr style=\"text-align: right;\">\n",
       "      <th></th>\n",
       "      <th>Nombre</th>\n",
       "      <th>Sueldo</th>\n",
       "      <th>Apellido</th>\n",
       "      <th>Correos_corporativos</th>\n",
       "      <th>Aumentos</th>\n",
       "      <th>Aumentos anuales</th>\n",
       "      <th>Sueldo2025</th>\n",
       "    </tr>\n",
       "  </thead>\n",
       "  <tbody>\n",
       "    <tr>\n",
       "      <th>0</th>\n",
       "      <td>Matha</td>\n",
       "      <td>1000</td>\n",
       "      <td>Jimenez</td>\n",
       "      <td>Jimenez.Matha@python.com.co</td>\n",
       "      <td>1.20</td>\n",
       "      <td>1.20</td>\n",
       "      <td>1200.0</td>\n",
       "    </tr>\n",
       "    <tr>\n",
       "      <th>1</th>\n",
       "      <td>Pedro</td>\n",
       "      <td>1500</td>\n",
       "      <td>Ortiz</td>\n",
       "      <td>Ortiz.Pedro@python.com.co</td>\n",
       "      <td>1.01</td>\n",
       "      <td>1.01</td>\n",
       "      <td>1515.0</td>\n",
       "    </tr>\n",
       "    <tr>\n",
       "      <th>2</th>\n",
       "      <td>Juaquin</td>\n",
       "      <td>500</td>\n",
       "      <td>Martinez</td>\n",
       "      <td>Martinez.Juaquin@python.com.co</td>\n",
       "      <td>2.00</td>\n",
       "      <td>2.00</td>\n",
       "      <td>1000.0</td>\n",
       "    </tr>\n",
       "    <tr>\n",
       "      <th>3</th>\n",
       "      <td>Andrea</td>\n",
       "      <td>700</td>\n",
       "      <td>Perez</td>\n",
       "      <td>Perez.Andrea@python.com.co</td>\n",
       "      <td>1.50</td>\n",
       "      <td>1.50</td>\n",
       "      <td>1050.0</td>\n",
       "    </tr>\n",
       "  </tbody>\n",
       "</table>\n",
       "</div>"
      ],
      "text/plain": [
       "    Nombre  Sueldo  Apellido            Correos_corporativos  Aumentos  \\\n",
       "0    Matha    1000   Jimenez     Jimenez.Matha@python.com.co      1.20   \n",
       "1    Pedro    1500     Ortiz       Ortiz.Pedro@python.com.co      1.01   \n",
       "2  Juaquin     500  Martinez  Martinez.Juaquin@python.com.co      2.00   \n",
       "3   Andrea     700     Perez      Perez.Andrea@python.com.co      1.50   \n",
       "\n",
       "   Aumentos anuales  Sueldo2025  \n",
       "0              1.20      1200.0  \n",
       "1              1.01      1515.0  \n",
       "2              2.00      1000.0  \n",
       "3              1.50      1050.0  "
      ]
     },
     "execution_count": 64,
     "metadata": {},
     "output_type": "execute_result"
    }
   ],
   "source": [
    "df"
   ]
  }
 ],
 "metadata": {
  "kernelspec": {
   "display_name": "base",
   "language": "python",
   "name": "python3"
  },
  "language_info": {
   "codemirror_mode": {
    "name": "ipython",
    "version": 3
   },
   "file_extension": ".py",
   "mimetype": "text/x-python",
   "name": "python",
   "nbconvert_exporter": "python",
   "pygments_lexer": "ipython3",
   "version": "3.12.3"
  }
 },
 "nbformat": 4,
 "nbformat_minor": 5
}
